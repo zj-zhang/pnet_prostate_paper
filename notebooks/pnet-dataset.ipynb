{
 "cells": [
  {
   "cell_type": "code",
   "execution_count": 1,
   "metadata": {},
   "outputs": [
    {
     "name": "stdout",
     "output_type": "stream",
     "text": [
      "/mnt/ceph/users/zzhang/pnet_prostate_paper/py3\n"
     ]
    }
   ],
   "source": [
    "%cd ../py3\n",
    "import os\n",
    "wd = os.path.dirname(os.getcwd())\n",
    "os.environ['PYTHONPATH'] = wd"
   ]
  },
  {
   "cell_type": "code",
   "execution_count": 2,
   "metadata": {},
   "outputs": [],
   "source": [
    "from config_path import PROSTATE_LOG_PATH, POSTATE_PARAMS_PATH\n",
    "import config_path\n",
    "import pandas as pd\n",
    "\n",
    "import imp\n",
    "import tensorflow as tf\n",
    "params_file = './pnet/onsplit_average_reg_10_tanh_large_testing'\n",
    "log_dir = os.path.join(PROSTATE_LOG_PATH, params_file)\n",
    "log_dir = log_dir\n",
    "params_file = os.path.join(POSTATE_PARAMS_PATH, params_file)"
   ]
  },
  {
   "cell_type": "code",
   "execution_count": 3,
   "metadata": {},
   "outputs": [],
   "source": [
    "from data.data_access import Data\n",
    "from data.prostate_paper.data_reader import ProstateDataPaper, load_data_type\n",
    "from data.prostate_paper import data_reader"
   ]
  },
  {
   "cell_type": "code",
   "execution_count": 4,
   "metadata": {},
   "outputs": [
    {
     "name": "stdout",
     "output_type": "stream",
     "text": [
      "/mnt/ceph/users/zzhang/pnet_prostate_paper/train/params/P1000/./pnet/onsplit_average_reg_10_tanh_large_testing.py\n"
     ]
    },
    {
     "name": "stderr",
     "output_type": "stream",
     "text": [
      "Using TensorFlow backend.\n"
     ]
    }
   ],
   "source": [
    "params_file_full = params_file + '.py'\n",
    "print(params_file_full)\n",
    "params = imp.load_source(params_file, params_file_full)"
   ]
  },
  {
   "cell_type": "code",
   "execution_count": 5,
   "metadata": {},
   "outputs": [
    {
     "data": {
      "text/plain": [
       "{'id': 'ALL',\n",
       " 'type': 'prostate_paper',\n",
       " 'params': {'data_type': ['mut_important', 'cnv_del', 'cnv_amp'],\n",
       "  'drop_AR': False,\n",
       "  'cnv_levels': 3,\n",
       "  'mut_binary': True,\n",
       "  'balanced_data': False,\n",
       "  'combine_type': 'union',\n",
       "  'use_coding_genes_only': True,\n",
       "  'selected_genes': 'tcga_prostate_expressed_genes_and_cancer_genes.csv',\n",
       "  'training_split': 0}}"
      ]
     },
     "execution_count": 5,
     "metadata": {},
     "output_type": "execute_result"
    }
   ],
   "source": [
    "params.data[0]"
   ]
  },
  {
   "cell_type": "code",
   "execution_count": 6,
   "metadata": {},
   "outputs": [
    {
     "name": "stderr",
     "output_type": "stream",
     "text": [
      "WARNING: Logging before flag parsing goes to stderr.\n",
      "W0403 18:22:21.953238 139856354707264 data_reader.py:64] some genes dont exist in the original data set\n",
      "W0403 18:22:28.225741 139856354707264 data_reader.py:64] some genes dont exist in the original data set\n",
      "W0403 18:22:32.841218 139856354707264 data_reader.py:64] some genes dont exist in the original data set\n"
     ]
    }
   ],
   "source": [
    "data = Data(**params.data[0])"
   ]
  },
  {
   "cell_type": "code",
   "execution_count": 7,
   "metadata": {},
   "outputs": [
    {
     "name": "stdout",
     "output_type": "stream",
     "text": [
      "(807, 27687)\n"
     ]
    }
   ],
   "source": [
    "x_train, x_validate_, x_test_, y_train, y_validate_, y_test_, info_train, info_validate_, info_test_, cols = data.get_train_validate_test()\n",
    "\n",
    "print(x_train.shape)"
   ]
  },
  {
   "cell_type": "code",
   "execution_count": 8,
   "metadata": {},
   "outputs": [
    {
     "data": {
      "text/plain": [
       "{'data_type': ['mut_important', 'cnv_del', 'cnv_amp'],\n",
       " 'drop_AR': False,\n",
       " 'cnv_levels': 3,\n",
       " 'mut_binary': True,\n",
       " 'balanced_data': False,\n",
       " 'combine_type': 'union',\n",
       " 'use_coding_genes_only': True,\n",
       " 'selected_genes': 'tcga_prostate_expressed_genes_and_cancer_genes.csv',\n",
       " 'training_split': 0}"
      ]
     },
     "execution_count": 8,
     "metadata": {},
     "output_type": "execute_result"
    }
   ],
   "source": [
    "params.data[0]['params']"
   ]
  },
  {
   "cell_type": "code",
   "execution_count": 9,
   "metadata": {},
   "outputs": [],
   "source": [
    "x_list = []\n",
    "y_list = []\n",
    "rows_list, cols_list = [], []"
   ]
  },
  {
   "cell_type": "code",
   "execution_count": 10,
   "metadata": {},
   "outputs": [
    {
     "name": "stdout",
     "output_type": "stream",
     "text": [
      "14665\n"
     ]
    }
   ],
   "source": [
    "# load selected genes\n",
    "data_path = config_path.DATA_PATH\n",
    "selected_genes = 'tcga_prostate_expressed_genes_and_cancer_genes.csv'\n",
    "selected_genes_file = os.path.join(data_path, 'genes')\n",
    "selected_genes_file = os.path.join(selected_genes_file, selected_genes)\n",
    "df = pd.read_csv(selected_genes_file, header=0)\n",
    "selected_genes = list(df['genes'])\n",
    "print(len(selected_genes))"
   ]
  },
  {
   "cell_type": "code",
   "execution_count": 11,
   "metadata": {},
   "outputs": [
    {
     "name": "stderr",
     "output_type": "stream",
     "text": [
      "W0403 18:22:38.588169 139856354707264 data_reader.py:64] some genes dont exist in the original data set\n"
     ]
    },
    {
     "name": "stdout",
     "output_type": "stream",
     "text": [
      "P1000_final_analysis_set_cross_important_only.csv\n"
     ]
    },
    {
     "data": {
      "text/plain": [
       "(1011, 8319)"
      ]
     },
     "execution_count": 11,
     "metadata": {},
     "output_type": "execute_result"
    },
    {
     "data": {
      "image/png": "[encoded data removed]",
      "text/plain": [
       "<Figure size 432x288 with 1 Axes>"
      ]
     },
     "metadata": {
      "needs_background": "light"
     },
     "output_type": "display_data"
    }
   ],
   "source": [
    "# load mut-binary\n",
    "print(data_reader.gene_important_mutations_only)\n",
    "mut_binary = True\n",
    "x, response, info, genes = data_reader.load_data(data_reader.gene_important_mutations_only, selected_genes)\n",
    "x.max(axis=1).plot.hist()\n",
    "if mut_binary:\n",
    "    #logging.info('mut_binary = True')\n",
    "    x[x > 1.] = 1.\n",
    "\n",
    "x_list.append(x), y_list.append(response), rows_list.append(info), cols_list.append(genes)\n",
    "x.shape"
   ]
  },
  {
   "cell_type": "code",
   "execution_count": 12,
   "metadata": {},
   "outputs": [
    {
     "name": "stderr",
     "output_type": "stream",
     "text": [
      "W0403 18:22:40.953042 139856354707264 data_reader.py:64] some genes dont exist in the original data set\n"
     ]
    },
    {
     "name": "stdout",
     "output_type": "stream",
     "text": [
      "2.0\n",
      "-2.0\n"
     ]
    },
    {
     "data": {
      "text/plain": [
       "<matplotlib.axes._subplots.AxesSubplot at 0x7f32528b8cd0>"
      ]
     },
     "execution_count": 12,
     "metadata": {},
     "output_type": "execute_result"
    },
    {
     "data": {
      "image/png": "[encoded data removed]",
      "text/plain": [
       "<Figure size 432x288 with 1 Axes>"
      ]
     },
     "metadata": {
      "needs_background": "light"
     },
     "output_type": "display_data"
    }
   ],
   "source": [
    "x, response, info, genes = data_reader.load_data(data_reader.cnv_filename, selected_genes)\n",
    "# raw CNV has been normalized by substracting 2, capped at [-2,2]\n",
    "print(x.max().max())\n",
    "print(x.min().min())\n",
    "x.mean(axis=1).plot.hist()"
   ]
  },
  {
   "cell_type": "code",
   "execution_count": 13,
   "metadata": {},
   "outputs": [
    {
     "name": "stdout",
     "output_type": "stream",
     "text": [
      "P1000_data_CNA_paper.csv\n"
     ]
    },
    {
     "name": "stderr",
     "output_type": "stream",
     "text": [
      "W0403 18:22:41.235176 139856354707264 data_reader.py:64] some genes dont exist in the original data set\n"
     ]
    },
    {
     "data": {
      "text/plain": [
       "(1013, 6344)"
      ]
     },
     "execution_count": 13,
     "metadata": {},
     "output_type": "execute_result"
    }
   ],
   "source": [
    "# load cnv deletion\n",
    "print(data_reader.cnv_filename)\n",
    "cnv_levels = 3\n",
    "cnv_filter_single_event = True   # single event = single-copy deletion or single-copy amplication\n",
    "x, response, info, genes = data_reader.load_data(data_reader.cnv_filename, selected_genes)\n",
    "x[x >= 0.0] = 0.\n",
    "if cnv_levels == 3:\n",
    "    if cnv_filter_single_event:\n",
    "        x[x == -1.] = 0.0\n",
    "        x[x == -2.] = 1.0\n",
    "    else:\n",
    "        x[x < 0.0] = 1.0\n",
    "else:  # cnv == 5 , use everything\n",
    "    x[x == -1.] = 0.5\n",
    "    x[x == -2.] = 1.0\n",
    "\n",
    "x_list.append(x), y_list.append(response), rows_list.append(info), cols_list.append(genes)\n",
    "x.shape"
   ]
  },
  {
   "cell_type": "code",
   "execution_count": 14,
   "metadata": {},
   "outputs": [
    {
     "name": "stderr",
     "output_type": "stream",
     "text": [
      "W0403 18:22:45.714950 139856354707264 data_reader.py:64] some genes dont exist in the original data set\n"
     ]
    },
    {
     "name": "stdout",
     "output_type": "stream",
     "text": [
      "P1000_data_CNA_paper.csv\n"
     ]
    },
    {
     "data": {
      "text/plain": [
       "(1013, 6344)"
      ]
     },
     "execution_count": 14,
     "metadata": {},
     "output_type": "execute_result"
    }
   ],
   "source": [
    "# load cnv amplification\n",
    "print(data_reader.cnv_filename)\n",
    "cnv_levels = 3\n",
    "cnv_filter_single_event = True   # single event = single-copy deletion or single-copy amplication\n",
    "\n",
    "x, response, info, genes = data_reader.load_data(data_reader.cnv_filename, selected_genes)\n",
    "x[x <= 0.0] = 0.\n",
    "if cnv_levels == 3:\n",
    "    if cnv_filter_single_event:\n",
    "        x[x == 1.0] = 0.0\n",
    "        x[x == 2.0] = 1.0\n",
    "    else:\n",
    "        x[x > 0.0] = 1.0\n",
    "else:  # cnv == 5 , use everything\n",
    "    x[x == 1.] = 0.5\n",
    "    x[x == 2.] = 1.0\n",
    "\n",
    "x_list.append(x), y_list.append(response), rows_list.append(info), cols_list.append(genes)\n",
    "x.shape"
   ]
  },
  {
   "cell_type": "code",
   "execution_count": 15,
   "metadata": {},
   "outputs": [],
   "source": [
    "# complete_features: make sure all the data_types have the same set of features_processing (genes)\n",
    "def combine(x_list, y_list, rows_list, cols_list, data_type_list, combine_type, use_coding_genes_only=False):\n",
    "    cols_list_set = [set(list(c)) for c in cols_list]\n",
    "\n",
    "    if combine_type == 'intersection':\n",
    "        cols = set.intersection(*cols_list_set)\n",
    "    else:\n",
    "        cols = set.union(*cols_list_set)\n",
    "    print(\"step 1 union of gene features\", len(cols))\n",
    "\n",
    "    if use_coding_genes_only:\n",
    "        f = os.path.join(data_path, 'genes/HUGO_genes/protein-coding_gene_with_coordinate_minimal.txt')\n",
    "        coding_genes_df = pd.read_csv(f, sep='\\t', header=None)\n",
    "        coding_genes_df.columns = ['chr', 'start', 'end', 'name']\n",
    "        coding_genes = set(coding_genes_df['name'].unique())\n",
    "        cols = cols.intersection(coding_genes)\n",
    "        print(\"step 2 intersect w/ coding\", len(coding_genes), '; coding AND in cols', len(cols))\n",
    "\n",
    "    # the unique (super) set of genes\n",
    "    all_cols = list(cols)\n",
    "\n",
    "    all_cols_df = pd.DataFrame(index=all_cols)\n",
    "\n",
    "    df_list = []\n",
    "    for x, y, r, c, d in zip(x_list, y_list, rows_list, cols_list, data_type_list):\n",
    "        df = pd.DataFrame(x, columns=c, index=r)\n",
    "        df = df.T.join(all_cols_df, how='right')\n",
    "        df = df.T\n",
    "        print(\"step 3 fill NA-%s num NAs=\" % d, df.isna().sum().sum())\n",
    "        # IMPORTANT: using features in union will be filled zeros!!\n",
    "        df = df.fillna(0)\n",
    "        df_list.append(df)\n",
    "\n",
    "    all_data = pd.concat(df_list, keys=data_type_list, join='inner', axis=1, )\n",
    "\n",
    "    # put genes on the first level and then the data type\n",
    "    all_data = all_data.swaplevel(i=0, j=1, axis=1)\n",
    "\n",
    "    # order the columns based on genes\n",
    "    order = all_data.columns.levels[0]\n",
    "    all_data = all_data.reindex(columns=order, level=0)\n",
    "\n",
    "    x = all_data.values\n",
    "    \n",
    "    \n",
    "    # NOTE: only the last y is used; all else are discarded\n",
    "    reordering_df = pd.DataFrame(index=all_data.index)\n",
    "    y = reordering_df.join(y, how='left')\n",
    "\n",
    "    y = y.values\n",
    "    cols = all_data.columns\n",
    "    rows = all_data.index\n",
    "    print(\n",
    "        'After combining, loaded data %d samples, %d variables, %d responses ' % (x.shape[0], x.shape[1], y.shape[0]))\n",
    "\n",
    "    return all_data, x, y, rows, cols"
   ]
  },
  {
   "cell_type": "code",
   "execution_count": 16,
   "metadata": {},
   "outputs": [
    {
     "name": "stdout",
     "output_type": "stream",
     "text": [
      "step 1 union of gene features 9809\n",
      "step 2 intersect w/ coding 19045 ; coding AND in cols 9229\n",
      "step 3 fill NA-mut_important num NAs= 1093902\n",
      "step 3 fill NA-cnv_del num NAs= 3443187\n",
      "step 3 fill NA-cnv_amp num NAs= 3443187\n",
      "After combining, loaded data 1011 samples, 27687 variables, 1011 responses \n"
     ]
    }
   ],
   "source": [
    "all_data, x, y, rows, cols = combine(x_list, y_list, rows_list, cols_list, \n",
    "                           data_type_list=['mut_important', 'cnv_del', 'cnv_amp'], \n",
    "                           combine_type='union', use_coding_genes_only=True)"
   ]
  },
  {
   "cell_type": "code",
   "execution_count": 17,
   "metadata": {},
   "outputs": [
    {
     "data": {
      "text/html": [
       "<div>\n",
       "<style scoped>\n",
       "    .dataframe tbody tr th:only-of-type {\n",
       "        vertical-align: middle;\n",
       "    }\n",
       "\n",
       "    .dataframe tbody tr th {\n",
       "        vertical-align: top;\n",
       "    }\n",
       "\n",
       "    .dataframe thead tr th {\n",
       "        text-align: left;\n",
       "    }\n",
       "</style>\n",
       "<table border=\"1\" class=\"dataframe\">\n",
       "  <thead>\n",
       "    <tr>\n",
       "      <th></th>\n",
       "      <th colspan=\"3\" halign=\"left\">CKMT2</th>\n",
       "      <th colspan=\"3\" halign=\"left\">PPP1R26</th>\n",
       "      <th colspan=\"3\" halign=\"left\">ZCCHC6</th>\n",
       "      <th>TCN2</th>\n",
       "      <th>...</th>\n",
       "      <th>RHOU</th>\n",
       "      <th colspan=\"3\" halign=\"left\">ACP1</th>\n",
       "      <th colspan=\"3\" halign=\"left\">WDR7</th>\n",
       "      <th colspan=\"3\" halign=\"left\">EMG1</th>\n",
       "    </tr>\n",
       "    <tr>\n",
       "      <th></th>\n",
       "      <th>mut_important</th>\n",
       "      <th>cnv_del</th>\n",
       "      <th>cnv_amp</th>\n",
       "      <th>mut_important</th>\n",
       "      <th>cnv_del</th>\n",
       "      <th>cnv_amp</th>\n",
       "      <th>mut_important</th>\n",
       "      <th>cnv_del</th>\n",
       "      <th>cnv_amp</th>\n",
       "      <th>mut_important</th>\n",
       "      <th>...</th>\n",
       "      <th>cnv_amp</th>\n",
       "      <th>mut_important</th>\n",
       "      <th>cnv_del</th>\n",
       "      <th>cnv_amp</th>\n",
       "      <th>mut_important</th>\n",
       "      <th>cnv_del</th>\n",
       "      <th>cnv_amp</th>\n",
       "      <th>mut_important</th>\n",
       "      <th>cnv_del</th>\n",
       "      <th>cnv_amp</th>\n",
       "    </tr>\n",
       "  </thead>\n",
       "  <tbody>\n",
       "    <tr>\n",
       "      <td>00-029N9_LN</td>\n",
       "      <td>0.0</td>\n",
       "      <td>0.0</td>\n",
       "      <td>0.0</td>\n",
       "      <td>0.0</td>\n",
       "      <td>0.0</td>\n",
       "      <td>0.0</td>\n",
       "      <td>0.0</td>\n",
       "      <td>0.0</td>\n",
       "      <td>0.0</td>\n",
       "      <td>0.0</td>\n",
       "      <td>...</td>\n",
       "      <td>0.0</td>\n",
       "      <td>0.0</td>\n",
       "      <td>0.0</td>\n",
       "      <td>0.0</td>\n",
       "      <td>0.0</td>\n",
       "      <td>0.0</td>\n",
       "      <td>0.0</td>\n",
       "      <td>0.0</td>\n",
       "      <td>0.0</td>\n",
       "      <td>0.0</td>\n",
       "    </tr>\n",
       "    <tr>\n",
       "      <td>01-087MM_BONE</td>\n",
       "      <td>0.0</td>\n",
       "      <td>0.0</td>\n",
       "      <td>0.0</td>\n",
       "      <td>0.0</td>\n",
       "      <td>0.0</td>\n",
       "      <td>0.0</td>\n",
       "      <td>0.0</td>\n",
       "      <td>0.0</td>\n",
       "      <td>0.0</td>\n",
       "      <td>0.0</td>\n",
       "      <td>...</td>\n",
       "      <td>0.0</td>\n",
       "      <td>0.0</td>\n",
       "      <td>0.0</td>\n",
       "      <td>0.0</td>\n",
       "      <td>0.0</td>\n",
       "      <td>0.0</td>\n",
       "      <td>0.0</td>\n",
       "      <td>0.0</td>\n",
       "      <td>0.0</td>\n",
       "      <td>0.0</td>\n",
       "    </tr>\n",
       "    <tr>\n",
       "      <td>01-095N1_LN</td>\n",
       "      <td>0.0</td>\n",
       "      <td>0.0</td>\n",
       "      <td>0.0</td>\n",
       "      <td>0.0</td>\n",
       "      <td>0.0</td>\n",
       "      <td>0.0</td>\n",
       "      <td>0.0</td>\n",
       "      <td>0.0</td>\n",
       "      <td>0.0</td>\n",
       "      <td>0.0</td>\n",
       "      <td>...</td>\n",
       "      <td>0.0</td>\n",
       "      <td>0.0</td>\n",
       "      <td>0.0</td>\n",
       "      <td>0.0</td>\n",
       "      <td>0.0</td>\n",
       "      <td>0.0</td>\n",
       "      <td>0.0</td>\n",
       "      <td>0.0</td>\n",
       "      <td>0.0</td>\n",
       "      <td>0.0</td>\n",
       "    </tr>\n",
       "    <tr>\n",
       "      <td>01-120A1_LIVER</td>\n",
       "      <td>0.0</td>\n",
       "      <td>0.0</td>\n",
       "      <td>0.0</td>\n",
       "      <td>0.0</td>\n",
       "      <td>0.0</td>\n",
       "      <td>0.0</td>\n",
       "      <td>0.0</td>\n",
       "      <td>0.0</td>\n",
       "      <td>0.0</td>\n",
       "      <td>0.0</td>\n",
       "      <td>...</td>\n",
       "      <td>0.0</td>\n",
       "      <td>0.0</td>\n",
       "      <td>0.0</td>\n",
       "      <td>0.0</td>\n",
       "      <td>0.0</td>\n",
       "      <td>0.0</td>\n",
       "      <td>0.0</td>\n",
       "      <td>0.0</td>\n",
       "      <td>0.0</td>\n",
       "      <td>0.0</td>\n",
       "    </tr>\n",
       "    <tr>\n",
       "      <td>02-083E1_LN</td>\n",
       "      <td>0.0</td>\n",
       "      <td>0.0</td>\n",
       "      <td>0.0</td>\n",
       "      <td>0.0</td>\n",
       "      <td>0.0</td>\n",
       "      <td>0.0</td>\n",
       "      <td>0.0</td>\n",
       "      <td>0.0</td>\n",
       "      <td>0.0</td>\n",
       "      <td>0.0</td>\n",
       "      <td>...</td>\n",
       "      <td>0.0</td>\n",
       "      <td>0.0</td>\n",
       "      <td>0.0</td>\n",
       "      <td>0.0</td>\n",
       "      <td>1.0</td>\n",
       "      <td>0.0</td>\n",
       "      <td>0.0</td>\n",
       "      <td>0.0</td>\n",
       "      <td>0.0</td>\n",
       "      <td>0.0</td>\n",
       "    </tr>\n",
       "  </tbody>\n",
       "</table>\n",
       "<p>5 rows × 27687 columns</p>\n",
       "</div>"
      ],
      "text/plain": [
       "                       CKMT2                       PPP1R26                  \\\n",
       "               mut_important cnv_del cnv_amp mut_important cnv_del cnv_amp   \n",
       "00-029N9_LN              0.0     0.0     0.0           0.0     0.0     0.0   \n",
       "01-087MM_BONE            0.0     0.0     0.0           0.0     0.0     0.0   \n",
       "01-095N1_LN              0.0     0.0     0.0           0.0     0.0     0.0   \n",
       "01-120A1_LIVER           0.0     0.0     0.0           0.0     0.0     0.0   \n",
       "02-083E1_LN              0.0     0.0     0.0           0.0     0.0     0.0   \n",
       "\n",
       "                      ZCCHC6                          TCN2  ...    RHOU  \\\n",
       "               mut_important cnv_del cnv_amp mut_important  ... cnv_amp   \n",
       "00-029N9_LN              0.0     0.0     0.0           0.0  ...     0.0   \n",
       "01-087MM_BONE            0.0     0.0     0.0           0.0  ...     0.0   \n",
       "01-095N1_LN              0.0     0.0     0.0           0.0  ...     0.0   \n",
       "01-120A1_LIVER           0.0     0.0     0.0           0.0  ...     0.0   \n",
       "02-083E1_LN              0.0     0.0     0.0           0.0  ...     0.0   \n",
       "\n",
       "                        ACP1                          WDR7                  \\\n",
       "               mut_important cnv_del cnv_amp mut_important cnv_del cnv_amp   \n",
       "00-029N9_LN              0.0     0.0     0.0           0.0     0.0     0.0   \n",
       "01-087MM_BONE            0.0     0.0     0.0           0.0     0.0     0.0   \n",
       "01-095N1_LN              0.0     0.0     0.0           0.0     0.0     0.0   \n",
       "01-120A1_LIVER           0.0     0.0     0.0           0.0     0.0     0.0   \n",
       "02-083E1_LN              0.0     0.0     0.0           1.0     0.0     0.0   \n",
       "\n",
       "                        EMG1                  \n",
       "               mut_important cnv_del cnv_amp  \n",
       "00-029N9_LN              0.0     0.0     0.0  \n",
       "01-087MM_BONE            0.0     0.0     0.0  \n",
       "01-095N1_LN              0.0     0.0     0.0  \n",
       "01-120A1_LIVER           0.0     0.0     0.0  \n",
       "02-083E1_LN              0.0     0.0     0.0  \n",
       "\n",
       "[5 rows x 27687 columns]"
      ]
     },
     "execution_count": 17,
     "metadata": {},
     "output_type": "execute_result"
    }
   ],
   "source": [
    "all_data.head()"
   ]
  },
  {
   "cell_type": "code",
   "execution_count": null,
   "metadata": {},
   "outputs": [],
   "source": []
  }
 ],
 "metadata": {
  "kernelspec": {
   "display_name": "Python 3",
   "language": "python",
   "name": "python3"
  },
  "language_info": {
   "codemirror_mode": {
    "name": "ipython",
    "version": 3
   },
   "file_extension": ".py",
   "mimetype": "text/x-python",
   "name": "python",
   "nbconvert_exporter": "python",
   "pygments_lexer": "ipython3",
   "version": "3.7.4"
  }
 },
 "nbformat": 4,
 "nbformat_minor": 2
}
